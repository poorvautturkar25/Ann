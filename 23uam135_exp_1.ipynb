{
  "nbformat": 4,
  "nbformat_minor": 0,
  "metadata": {
    "colab": {
      "provenance": [],
      "authorship_tag": "ABX9TyP25mQldsDgG6lz+fcOpgfe",
      "include_colab_link": true
    },
    "kernelspec": {
      "name": "python3",
      "display_name": "Python 3"
    },
    "language_info": {
      "name": "python"
    }
  },
  "cells": [
    {
      "cell_type": "markdown",
      "metadata": {
        "id": "view-in-github",
        "colab_type": "text"
      },
      "source": [
        "<a href=\"https://colab.research.google.com/github/poorvautturkar25/Ann/blob/main/23uam135_exp_1.ipynb\" target=\"_parent\"><img src=\"https://colab.research.google.com/assets/colab-badge.svg\" alt=\"Open In Colab\"/></a>"
      ]
    },
    {
      "cell_type": "code",
      "execution_count": null,
      "metadata": {
        "colab": {
          "base_uri": "https://localhost:8080/"
        },
        "id": "vsGQSxQ92J0H",
        "outputId": "00ea847b-e054-4131-d3d0-4293797dde86"
      },
      "outputs": [
        {
          "output_type": "stream",
          "name": "stdout",
          "text": [
            "Output of artifical Neuron : 1\n"
          ]
        }
      ],
      "source": [
        "#To implement a basic artificial neuron model that simulates the behavior of a single perceptron.\n",
        "\n",
        "#// Impementation of simple neuron with any values of weights,bias,inputs.\n",
        "# Simple neuron\n",
        "def artifical_neuron(inputs,weights,bias):\n",
        "  weighted_sum=0\n",
        "\n",
        "  for i in range(len(inputs)):\n",
        "    weighted_sum += inputs[i]*weights[i]\n",
        "    weighted_sum += bias\n",
        "\n",
        "    output = 1 if weighted_sum > 0 else 0\n",
        "\n",
        "    return output\n",
        "\n",
        "inputs=[2,3]\n",
        "weights=[0.8,0.5]\n",
        "bias=-1\n",
        "\n",
        "output = artifical_neuron(inputs,weights,bias)\n",
        "print(\"Output of artifical Neuron :\",output)\n",
        "\n",
        "\n",
        "\n"
      ]
    },
    {
      "cell_type": "code",
      "source": [
        "# AND gate\n",
        "import numpy as np\n",
        "def step_function(x):\n",
        "  if x>=0:\n",
        "    return 1\n",
        "  else:\n",
        "    return 0\n",
        "\n",
        "def artifical_neuron(x1,x2,weights,bias):\n",
        "  weighted_sum=weights[0] *x1 + weights[1] *x2 +bias\n",
        "  return step_function(weighted_sum) # Fixed: Removed extra space before return\n",
        "\n",
        "weights=np.array([1,1])\n",
        "bias=-1.5\n",
        "\n",
        "inputs=[(0,0),(0,1),(1,0),(1,1)]\n",
        "\n",
        "for x1,x2 in inputs:\n",
        "  output =artifical_neuron(x1,x2,weights,bias)\n",
        "  print(f\"Input:({x1},{x2})  -> Output:{output}\")\n"
      ],
      "metadata": {
        "colab": {
          "base_uri": "https://localhost:8080/"
        },
        "id": "GGZ5unNuVERX",
        "outputId": "6d5ad64d-ca92-4d43-8498-ddc50a4d9c8a"
      },
      "execution_count": null,
      "outputs": [
        {
          "output_type": "stream",
          "name": "stdout",
          "text": [
            "Input:(0,0)  -> Output:0\n",
            "Input:(0,1)  -> Output:0\n",
            "Input:(1,0)  -> Output:0\n",
            "Input:(1,1)  -> Output:1\n"
          ]
        }
      ]
    },
    {
      "cell_type": "code",
      "source": [
        "# OR gate\n",
        "import numpy as np\n",
        "def step_function(x):\n",
        "  if x>=0:\n",
        "    return 1\n",
        "  else:\n",
        "    return 0\n",
        "\n",
        "def artifical_neuron(x1,x2,weights,bias):\n",
        "  weighted_sum=weights[0] *x1 + weights[1] *x2 +bias\n",
        "  return step_function(weighted_sum) # Fixed: Removed extra space before return\n",
        "\n",
        "weights=np.array([2,2])\n",
        "bias=-1\n",
        "\n",
        "inputs=[(0,0),(0,1),(1,0),(1,1)]\n",
        "\n",
        "for x1,x2 in inputs:\n",
        "  output =artifical_neuron(x1,x2,weights,bias)\n",
        "  print(f\"Input:({x1},{x2})  -> Output:{output}\")"
      ],
      "metadata": {
        "colab": {
          "base_uri": "https://localhost:8080/"
        },
        "id": "UXL8RNyvYVS4",
        "outputId": "67ac7fb7-bdba-41b8-d2aa-fc0437aa20b6"
      },
      "execution_count": null,
      "outputs": [
        {
          "output_type": "stream",
          "name": "stdout",
          "text": [
            "Input:(0,0)  -> Output:0\n",
            "Input:(0,1)  -> Output:1\n",
            "Input:(1,0)  -> Output:1\n",
            "Input:(1,1)  -> Output:1\n"
          ]
        }
      ]
    },
    {
      "cell_type": "code",
      "source": [
        "# Not gate\n",
        "import numpy as np\n",
        "def step_function(x):\n",
        "  if x>=0:\n",
        "    return 1\n",
        "  else:\n",
        "    return 0\n",
        "\n",
        "def artifical_neuron(x1,x2,weights,bias):\n",
        "  weighted_sum=weights[0] *x1 +bias\n",
        "  return step_function(weighted_sum) # Fixed: Removed extra space before return\n",
        "\n",
        "weights=np.array([-3])\n",
        "bias=1\n",
        "\n",
        "inputs=[0,1]\n",
        "\n",
        "for x1 in inputs:\n",
        "  output =artifical_neuron(x1,x2,weights,bias)\n",
        "  print(f\"Input:({x1})  -> Output:{output}\")"
      ],
      "metadata": {
        "colab": {
          "base_uri": "https://localhost:8080/"
        },
        "id": "n41AOoMbYvGP",
        "outputId": "30a1568c-df06-469d-f921-bb52d409930f"
      },
      "execution_count": null,
      "outputs": [
        {
          "output_type": "stream",
          "name": "stdout",
          "text": [
            "Input:(0)  -> Output:1\n",
            "Input:(1)  -> Output:0\n"
          ]
        }
      ]
    },
    {
      "cell_type": "code",
      "source": [
        "# NAND gate\n",
        "import numpy as np\n",
        "def step_function(x):\n",
        "  if x>=0:\n",
        "    return 1\n",
        "  else:\n",
        "    return 0\n",
        "\n",
        "def artifical_neuron(x1,x2,weights,bias):\n",
        "  weighted_sum=weights[0] *x1 + weights[1] *x2 +bias\n",
        "  return step_function(weighted_sum) # Fixed: Removed extra space before return\n",
        "\n",
        "weights=np.array([-2,-2])\n",
        "bias=3\n",
        "\n",
        "inputs=[(0,0),(0,1),(1,0),(1,1)]\n",
        "\n",
        "for x1,x2 in inputs:\n",
        "  output =artifical_neuron(x1,x2,weights,bias)\n",
        "  print(f\"Input:({x1},{x2})  -> Output:{output}\")"
      ],
      "metadata": {
        "id": "PIN09i_H8jyx",
        "colab": {
          "base_uri": "https://localhost:8080/"
        },
        "outputId": "a28c031a-bb05-456d-c4da-13dc11f9c490"
      },
      "execution_count": null,
      "outputs": [
        {
          "output_type": "stream",
          "name": "stdout",
          "text": [
            "Input:(0,0)  -> Output:1\n",
            "Input:(0,1)  -> Output:1\n",
            "Input:(1,0)  -> Output:1\n",
            "Input:(1,1)  -> Output:0\n"
          ]
        }
      ]
    },
    {
      "cell_type": "code",
      "source": [
        "# NOR gate\n",
        "import numpy as np\n",
        "def step_function(x):\n",
        "  if x>=0:\n",
        "    return 1\n",
        "  else:\n",
        "    return 0\n",
        "\n",
        "def artifical_neuron(x1,x2,weights,bias):\n",
        "  weighted_sum=weights[0] *x1 + weights[1] *x2 +bias\n",
        "  return step_function(weighted_sum) # Fixed: Removed extra space before return\n",
        "\n",
        "weights=np.array([-1,-1])\n",
        "bias=0\n",
        "\n",
        "inputs=[(0,0),(0,1),(1,0),(1,1)]\n",
        "\n",
        "for x1,x2 in inputs:\n",
        "  output =artifical_neuron(x1,x2,weights,bias)\n",
        "  print(f\"Input:({x1},{x2})  -> Output:{output}\")"
      ],
      "metadata": {
        "colab": {
          "base_uri": "https://localhost:8080/"
        },
        "id": "qumPsWScbOFr",
        "outputId": "b795d877-92cc-46d2-f33f-a8a57131c37b"
      },
      "execution_count": null,
      "outputs": [
        {
          "output_type": "stream",
          "name": "stdout",
          "text": [
            "Input:(0,0)  -> Output:1\n",
            "Input:(0,1)  -> Output:0\n",
            "Input:(1,0)  -> Output:0\n",
            "Input:(1,1)  -> Output:0\n"
          ]
        }
      ]
    },
    {
      "cell_type": "code",
      "source": [
        "#Spam filtering (email classification as spam or not spam).\n",
        "\n",
        "def spam_filter(email_features, weights, bias, threshold):\n",
        "\n",
        "    weighted_sum = 0\n",
        "    for i in range(len(email_features)):\n",
        "        weighted_sum += email_features[i] * weights[i]\n",
        "\n",
        "    # Add the bias\n",
        "    weighted_sum += bias\n",
        "\n",
        "    # Apply the step activation function\n",
        "    if weighted_sum > threshold:\n",
        "        return 1  # Spam\n",
        "    else:\n",
        "        return 0  # Not Spam\n",
        "\n",
        "\n",
        "\n",
        "email_features = [3, 1, 0.4]  # Example email features: [3 spam keywords, 1 suspicious link, 0.4 sender reputation]\n",
        "weights = [0.7, 1.0, -0.5]    # Weights for each feature\n",
        "bias = -1.0                   # Bias term\n",
        "threshold = 0                 # Threshold for spam classification\n",
        "\n",
        "# Get the prediction (1 = Spam, 0 = Not Spam)\n",
        "output = spam_filter(email_features, weights, bias, threshold)\n",
        "\n",
        "# Output the result\n",
        "if output == 1:\n",
        "    print(\"This email is Spam.\")\n",
        "else:\n",
        "    print(\"This email is Not Spam.\")\n"
      ],
      "metadata": {
        "id": "qOnvezETENSY",
        "colab": {
          "base_uri": "https://localhost:8080/"
        },
        "outputId": "f477e1d4-d311-4f54-9773-2743f89fb032"
      },
      "execution_count": null,
      "outputs": [
        {
          "output_type": "stream",
          "name": "stdout",
          "text": [
            "This email is Spam.\n"
          ]
        }
      ]
    },
    {
      "cell_type": "code",
      "source": [
        "#Simple recommendation systems (yes/no suggestions based on a threshold).\n",
        "\n",
        "def recommend_items(ratings, threshold):\n",
        "    recommendations = []\n",
        "    for rating in ratings:\n",
        "        if rating > threshold:\n",
        "            recommendations.append(\"Yes\")  # Recommend the item\n",
        "        else:\n",
        "            recommendations.append(\"No\")   # Do not recommend the item\n",
        "    return recommendations\n",
        "\n",
        "# Example:\n",
        "movie_ratings = [4.5, 2.3, 3.8, 4.2, 1.5, 3.0, 5.0]  # List of movie ratings from the user\n",
        "threshold = 3.0  # Threshold for recommendation\n",
        "\n",
        "# Get the recommendations\n",
        "recommendations = recommend_items(movie_ratings, threshold)\n",
        "\n",
        "# Output\n",
        "for i in range(len(recommendations)):\n",
        "    print(f\"Movie {i+1}: {recommendations[i]}\")\n"
      ],
      "metadata": {
        "colab": {
          "base_uri": "https://localhost:8080/"
        },
        "id": "t4ZJmWaOFUnw",
        "outputId": "69ffc54b-56e1-4fd0-a33f-61502b85b0b9"
      },
      "execution_count": null,
      "outputs": [
        {
          "output_type": "stream",
          "name": "stdout",
          "text": [
            "Movie 1: Yes\n",
            "Movie 2: No\n",
            "Movie 3: Yes\n",
            "Movie 4: Yes\n",
            "Movie 5: No\n",
            "Movie 6: No\n",
            "Movie 7: Yes\n"
          ]
        }
      ]
    }
  ]
}