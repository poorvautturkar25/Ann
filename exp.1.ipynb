#To implement a basic artificial neuron model that simulates the behavior of a single perceptron.

#// Impementation of simple neuron with any values of weights,bias,inputs.
# Simple neuron
def artifical_neuron(inputs,weights,bias):
  weighted_sum=0

  for i in range(len(inputs)):
    weighted_sum += inputs[i]*weights[i]
    weighted_sum += bias

    output = 1 if weighted_sum > 0 else 0

    return output

inputs=[2,3]
weights=[0.8,0.5]
bias=-1

output = artifical_neuron(inputs,weights,bias)
print("Output of artifical Neuron :",output)

