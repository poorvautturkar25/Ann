{
  "nbformat": 4,
  "nbformat_minor": 0,
  "metadata": {
    "colab": {
      "provenance": [],
      "authorship_tag": "ABX9TyMswqVJGIlhSMiYsF8GqDP3",
      "include_colab_link": true
    },
    "kernelspec": {
      "name": "python3",
      "display_name": "Python 3"
    },
    "language_info": {
      "name": "python"
    }
  },
  "cells": [
    {
      "cell_type": "markdown",
      "metadata": {
        "id": "view-in-github",
        "colab_type": "text"
      },
      "source": [
        "<a href=\"https://colab.research.google.com/github/poorvautturkar25/Ann/blob/main/23uam135_exp_4.ipynb\" target=\"_parent\"><img src=\"https://colab.research.google.com/assets/colab-badge.svg\" alt=\"Open In Colab\"/></a>"
      ]
    },
    {
      "cell_type": "code",
      "execution_count": null,
      "metadata": {
        "id": "MUMRzLI2C55M",
        "colab": {
          "base_uri": "https://localhost:8080/"
        },
        "outputId": "af811e54-e2bf-469a-dc65-777c6d7ec7eb"
      },
      "outputs": [
        {
          "output_type": "stream",
          "name": "stdout",
          "text": [
            "final weight: [ 0.08421343 -0.07311672  0.36301402]\n",
            "final bias: [0.71987679]\n",
            "final error: [ 0.71997203 -0.01127031  0.71997203]\n",
            "final output: [0]\n"
          ]
        }
      ],
      "source": [
        "#Problem Statement 1:\n",
        " # A company wants to classify emails as Spam (1) or Not Spam (0) based on features like:\n",
        "# 1. Number of capital letters\n",
        "# 2. Presence of certain words (e.g., &quot;free&quot;, &quot;win&quot;)\n",
        "# 3. Email length\n",
        "# Input Features (X): [capital_letters, contains_free, email_length]\n",
        "# Output (y): 1 (Spam) / 0 (Not Spam)\n",
        "\n",
        "\n",
        "import numpy as np\n",
        "\n",
        "Email=\"vbvckjhius\"\n",
        "count=0\n",
        "spam_score = 0\n",
        "\n",
        "for i in Email:\n",
        "    if(i.isupper()):\n",
        "        count=count+1\n",
        "\n",
        "no_of_capital_letters=count\n",
        "\n",
        "if(len(Email)<40):\n",
        "    length=len(Email)\n",
        "else:\n",
        "    length=0\n",
        "\n",
        "spam_words = [\"buy\", \"cheap\", \"discount\", \"offer\", \"win\"]\n",
        "for word in spam_words:\n",
        "  if word in Email.lower():\n",
        "      spam_score += 1\n",
        "      break\n",
        "\n",
        "x = np.array([no_of_capital_letters, length, spam_score])\n",
        "y = np.array([1 if (spam_score>0 or no_of_capital_letters>0 or length==0) else 0])\n",
        "\n",
        "\n",
        "w=np.random.rand(3)\n",
        "b=np.random.rand(1)\n",
        "\n",
        "learning_rate=0.0001\n",
        "iteration=1000\n",
        "\n",
        "for i in range(iteration):\n",
        "\n",
        "    y_predicted = w* x + b\n",
        "    error=y_predicted - y\n",
        "\n",
        "    dw=(2/len(x) * np.sum(error * x))\n",
        "    db=(2/len(x) * np.sum(error))\n",
        "\n",
        "    w = w - learning_rate * dw\n",
        "    b = b - learning_rate * db\n",
        "\n",
        "print(f'final weight: {w}')\n",
        "print(f'final bias: {b}')\n",
        "print(f'final error: {error}')\n",
        "print(f'final output: {y}')"
      ]
    },
    {
      "cell_type": "code",
      "source": [
        "#Problem Statement 2:\n",
        "# A bank wants to predict whether a loan applicant should be approved (1) or denied (0) based on:\n",
        "# 1. Credit score\n",
        "# 2. Annual income\n",
        "# 3. Previous loan defaults\n",
        "# Input Features (X): [credit_score, annual_income, past_defaults]\n",
        "# Output (y): 1 (Approved) / 0 (Denied)\n",
        "\n",
        "import numpy as np\n",
        "\n",
        "# Define input features\n",
        "credit_score = 700  # Example input: Credit score of the applicant\n",
        "annual_income = 55000  # Example input: Annual income of the applicant\n",
        "past_defaults = 0  # Example input: Number of previous loan defaults (0 means no defaults)\n",
        "\n",
        "# Prepare the feature vector x and output y\n",
        "x = np.array([credit_score, annual_income, past_defaults])\n",
        "y = np.array([1 if credit_score > 650 and annual_income > 50000 and past_defaults == 0 else 0])  # Approve if conditions met\n",
        "\n",
        "# Feature Scaling (Normalization)\n",
        "x_mean = np.mean(x)\n",
        "x_std = np.std(x)\n",
        "x_normalized = (x - x_mean) / x_std\n",
        "\n",
        "# Initialize random weights and bias\n",
        "w = np.random.rand(3)\n",
        "b = np.random.rand(1)\n",
        "\n",
        "# Hyperparameters\n",
        "learning_rate = 0.0000001  # Reduced learning rate\n",
        "iterations = 1000\n",
        "\n",
        "# Training loop\n",
        "for i in range(iterations):\n",
        "\n",
        "    # Predict output\n",
        "    y_predicted = np.dot(w, x_normalized) + b\n",
        "\n",
        "    # Calculate error\n",
        "    error = y_predicted - y\n",
        "\n",
        "    # Calculate gradients\n",
        "    dw = (2 / len(y)) * error * x_normalized  # Gradient for weights\n",
        "    db = (2 / len(y)) * np.sum(error)     # Gradient for bias\n",
        "\n",
        "    # Update weights and bias\n",
        "    w = w - learning_rate * dw\n",
        "    b = b - learning_rate * db\n",
        "\n",
        "# Output final model details\n",
        "print(f'final weight: {w}')\n",
        "print(f'final bias: {b}')\n",
        "print(f'final error: {error}')\n",
        "print(f'final output: {y_predicted}')\n",
        "\n",
        "if y_predicted >= 0.5:\n",
        "    loan_decision = \"Loan Approved\"\n",
        "else:\n",
        "    loan_decision = \"Loan Denied\"\n",
        "\n",
        "print(f\"Loan Decision: {loan_decision}\")"
      ],
      "metadata": {
        "colab": {
          "base_uri": "https://localhost:8080/"
        },
        "id": "KdvX2iaGLH5d",
        "outputId": "d12da469-6e1d-44d1-a914-23df5862faa8"
      },
      "execution_count": null,
      "outputs": [
        {
          "output_type": "stream",
          "name": "stdout",
          "text": [
            "final weight: [0.44212988 0.17267548 0.55957489]\n",
            "final bias: [0.75381234]\n",
            "final error: [-0.71186739]\n",
            "final output: [0.28813261]\n",
            "Loan Decision: Loan Denied\n"
          ]
        }
      ]
    }
  ]
}